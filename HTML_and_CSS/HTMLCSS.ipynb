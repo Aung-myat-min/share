{
 "cells": [
  {
   "cell_type": "markdown",
   "id": "b13f32a4",
   "metadata": {},
   "source": [
    "<h2> အားလုံးပဲ မင်္ဂလာပါခင်ဗျာ။ 👋 </h2>\n",
    "\n",
    "<h3> ယနေ့ပြောပြပေးသွားမဲ့ အကြောင်းအရာကတော့ HTML နဲ့ CSS ပဲဖြစ်ပါတယ်။ </h3>\n",
    "<br>\n",
    "<div style=' display: inline-block; width: 100%; height: auto;'>\n",
    "<img src=\"logo.png\" style=\"border: solid 1px black; float: left;\">\n",
    "</div>\n",
    "<hr> \n",
    "<hr>\n",
    "\n",
    "<i><h3> So,... What are they? </h3></i>\n",
    "<br>\n",
    "<br>\n",
    "&nbsp; &nbsp; Both HTML နဲ့ CSS တွေက Mark Down Language တွေပဲ ဖြစ်ပါတယ်။ သူတို့ကို Structure ချဖို့ အတွက်ပဲ သုံးကြတာပါ။\n",
    "<ul>\n",
    "    <li>HTML for sturcture</li>\n",
    "    <li>CSS for styling</li>\n",
    "</ul>\n",
    "\n",
    "<img src='html_and_csss.png' style='width: 50%; display: inline-block; height:auto;'>\n",
    "<br>photo crd\n",
    "\n",
    "<hr>"
   ]
  },
  {
   "cell_type": "markdown",
   "id": "c7d2ecd2",
   "metadata": {},
   "source": [
    "**ပုံမှာပြထားတဲ့ အတိုင်း HTML က webpage တစ်ခုအတွက် structure ပါ။ အခြေခံ structure ဖြစ်တဲ့ အတွက် HTML ချည်းပါတဲ့ website ဟာ မလှပါဘူး။ အဲ့တာကို web 1.0 လို့ခေါ်လေ့ရှိကြပါတယ်။**\n",
    "\n",
    "ဒီနေရာမှာတော့ websitesတွေရဲ့ အခြေခံ element တွေကိုပဲပြောပြပေးသွားမှာပါ။\n",
    "အဲ့တော့ website တစ်ခုကို ဥပမာ အနေနဲ့ကြည့်ရအောင်\n",
    "\n",
    "![](example.png)"
   ]
  },
  {
   "cell_type": "markdown",
   "id": "fe5b4707",
   "metadata": {},
   "source": [
    "Website တစ်ခုမှာဆိုရင်..\n",
    "<img src='exampleexp.png' style='width: 60%;'>\n",
    "<ol style='list-style: none;'>\n",
    "    <li style='color: rgb(236, 28, 36);'>Photoတွေ</li>\n",
    "    <li style='color: #00a8f3;'>Linkတွေ</li>\n",
    "    <li style='color: rgb(255, 174, 200);'>Headerတွေ</li>\n",
    "    <li style='color: #ffffff; background-color:black; display:inline-block;'>Textတွေ</li><br>\n",
    "    <li style='color: yellow; background-color: gray; display:inline-block;'>Buttonတွေ</li>\n",
    "    <li>Other: like (Places to write texts, to choose things)တွေ</li>\n",
    "    ပဲဖြစ်ပါတယ်။\n",
    "</ol>\n",
    "\n",
    "<p>အခုလက်ရှိ မြင်နေရတဲ့အရာတွေဟာ အပေါ်ကပြောခဲ့သလို HTML နဲ့ CSSပေါင်းရေးထားလို့ ကြည့်ကောင်းကြတာပါ။ HTML ချည်း သက်သက်ဆို အရိုးစုလိုပါပဲ 💀 ကြည့်ရဆိုးပါတယ်။ </p>\n",
    "<p>အောက်ကအရာတေက CSS မပါပဲ HTML ချည်းသက်သက်ဆို ပေါ်လာမယ့်ပုံတေပါ။</p>\n",
    "<br> <hr>\n",
    "<b>Photo : </b>\n",
    "<img src='sample.png' style='width: 40%;'><br> <hr>\n",
    "<b>Link : </b>\n",
    "<a href='www.google.com'>Google</a><br><hr>\n",
    "<b>Header</b>\n",
    "<h1>header 1</h1>\n",
    "<h2>header 2</h2>\n",
    "<h3>header 3</h3>\n",
    "<h4>header 4</h4>\n",
    "<h5>header 5</h5>\n",
    "<h6>header 6</h6>\n",
    "<br> <hr>\n",
    "<b>Text : </b>\n",
    "<p>Lorem Ipsum is simply dummy text of the printing and typesetting industry. Lorem Ipsum has been the industry's standard dummy text ever since the 1500s, when an unknown printer took a galley of type and scrambled it to make a type specimen book. It has survived not only five centuries, but also the leap into electronic typesetting, remaining essentially unchanged. It was popularised in the 1960s with the release of Letraset sheets containing Lorem Ipsum passages, and more recently with desktop publishing software like Aldus PageMaker including versions of Lorem Ipsum.</p> <br> <hr>\n",
    "<b>Button : </b>\n",
    "<button>Submit</button> <br> <hr>\n",
    "<b>Other :</b>\n",
    "<input type='text' placeholder='Type Here'>\n",
    "<select>\n",
    "    <option>Option 1</option>\n",
    "    <option>Option 2</option>\n",
    "    <option>Option 3</option>\n",
    "</select>\n",
    "<hr>"
   ]
  },
  {
   "cell_type": "markdown",
   "id": "5209fb2e",
   "metadata": {},
   "source": [
    "ကဲဒါဆို လှသွားအောင် CSS လေးနည်းနည်းထည့်ကြည့်ရအောင်.....\n",
    "<h2 style='text-align:center;'>Adding Some CSS</h2><br><br>\n",
    "<b>Photo : </b>\n",
    "<img src='none.png' style='width: 40%; height: 200px; border-radius: 25px; border: solid 2px blue'><br> <hr>\n",
    "<b>Link : </b>\n",
    "<a href='www.google.com' style='color: black; text-decoration: none; font-size: 20px; display: inline-block; padding: 5px; background-color: skyblue;'>Google</a><br><hr>\n",
    "<b>Header : </b>\n",
    "<h1 style='color: white; text-decoration: none; display: inline-block; padding: 5px; background-color: black;'>header 1</h1>\n",
    "<h2 style='color: white; text-decoration: none; display: inline-block; padding: 5px; background-color: black;'>header 2</h2>\n",
    "<h3 style='color: white; text-decoration: none; display: inline-block; padding: 5px; background-color: black;'>header 3</h3>\n",
    "<h4 style='color: white; text-decoration: none; display: inline-block; padding: 5px; background-color: black;'>header 4</h4>\n",
    "<h5 style='color: white; text-decoration: none; display: inline-block; padding: 5px; background-color: black;'>header 5</h5>\n",
    "<h6 style='color: white; text-decoration: none; display: inline-block; padding: 5px; background-color: black;'>header 6</h6>\n",
    "<br> <hr>\n",
    "<b>Text : </b>\n",
    "<p style='font-family:Time New Roman; line-height: 25px; text-align: justify;'>Lorem Ipsum is simply dummy text of the printing and typesetting industry. Lorem Ipsum has been the industry's standard dummy text ever since the 1500s, when an unknown printer took a galley of type and scrambled it to make a type specimen book. It has survived not only five centuries, but also the leap into electronic typesetting, remaining essentially unchanged. It was popularised in the 1960s with the release of Letraset sheets containing Lorem Ipsum passages, and more recently with desktop publishing software like Aldus PageMaker including versions of Lorem Ipsum.</p> <br> <hr>\n",
    "<b>Button : </b>\n",
    "<button style='padding: 1em 2em; background-color: black; color: gold; border: solid 1px gold; border-radius: 25px;'>Submit</button> <br> <hr>\n",
    "<b>Other :</b>\n",
    "<input type='text' placeholder='Type Here' style=' box-shadow: 2px 4px gray; padding: 5px 10px; border-radius: 10px; text-align: center;'>\n",
    "<select style='padding: 3px 6px; border-radius: 10px; text-align: center; margin: 3px 5px;'>\n",
    "    <option>Option 1</option>\n",
    "    <option>Option 2</option>\n",
    "    <option>Option 3</option>\n",
    "</select>\n",
    "<b>ဒီနေ့ကတော့ ဒီလောက်ပါပဲ နောက်တစ်ခေါက်မှာတော့ HTML နဲ့ CSSကို ဘယ်လိုရေးကြတယ် နဲ့ဘယ်နေရာတွေမှာ ရေးလို့ရတယ် စတဲ့ အရာတွေကိုပြောပြပေးသွားမှာပါ။</b><br><br>\n",
    "Bye Bye! See you later!<br>\n",
    "Have a Nice day!💖"
   ]
  },
  {
   "cell_type": "markdown",
   "id": "e64d4e81",
   "metadata": {},
   "source": [
    "![](hq720.webp)"
   ]
  }
 ],
 "metadata": {
  "kernelspec": {
   "display_name": "Python 3 (ipykernel)",
   "language": "python",
   "name": "python3"
  },
  "language_info": {
   "codemirror_mode": {
    "name": "ipython",
    "version": 3
   },
   "file_extension": ".py",
   "mimetype": "text/x-python",
   "name": "python",
   "nbconvert_exporter": "python",
   "pygments_lexer": "ipython3",
   "version": "3.9.13"
  }
 },
 "nbformat": 4,
 "nbformat_minor": 5
}
